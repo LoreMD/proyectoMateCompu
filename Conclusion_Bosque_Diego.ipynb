{
 "metadata": {
  "name": "",
  "signature": "sha256:7dac39b09424ece1204fa0d07dda1f7b230e285c7b3d32822068e92de30cd981"
 },
 "nbformat": 3,
 "nbformat_minor": 0,
 "worksheets": [
  {
   "cells": [
    {
     "cell_type": "markdown",
     "metadata": {},
     "source": [
      "\n",
      "A lo que acontece con el modelo del Bosque, se puede observar la forma en que, tanto variando $p$ y $f$ decimalmente entre [0.1,0.9] como centecimalmente en [0.01,0.09], existe un comportamiento prevecible. Una peque\u00f1a modificaci\u00f3n en las condiciones iniciales no implica un resultado relativamente distinto, por lo que podemos concluir que no es un comportamiento ca\u00f3tico. Es un sistema cr\u00edtico auto-organizado pues, dada una $p$, $f$ y tiempos fijos, se puede analizar y prever de antemano la cantidad promedio de \u00e1rboles vivos dentro del modelo."
     ]
    },
    {
     "cell_type": "code",
     "collapsed": false,
     "input": [],
     "language": "python",
     "metadata": {},
     "outputs": []
    }
   ],
   "metadata": {}
  }
 ]
}